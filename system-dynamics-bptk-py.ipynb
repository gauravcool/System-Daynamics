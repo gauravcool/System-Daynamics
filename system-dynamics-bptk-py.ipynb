{
 "cells": [
  {
   "cell_type": "markdown",
   "metadata": {},
   "source": [
    "## overview of how to build a System Dynamics model using the BPTK-Py framework"
   ]
  },
  {
   "cell_type": "code",
   "execution_count": 2,
   "metadata": {},
   "outputs": [
    {
     "name": "stdout",
     "output_type": "stream",
     "text": [
      "Requirement already satisfied: BPTK_Py in /Users/gauravkumar/opt/anaconda3/lib/python3.8/site-packages (1.5.3)\n",
      "Requirement already satisfied: requests in /Users/gauravkumar/opt/anaconda3/lib/python3.8/site-packages (from BPTK_Py) (2.24.0)\n",
      "Requirement already satisfied: numpy>=1.16.2 in /Users/gauravkumar/opt/anaconda3/lib/python3.8/site-packages (from BPTK_Py) (1.18.5)\n",
      "Requirement already satisfied: distlib in /Users/gauravkumar/opt/anaconda3/lib/python3.8/site-packages (from BPTK_Py) (0.3.1)\n",
      "Requirement already satisfied: matplotlib>=3.0.3 in /Users/gauravkumar/opt/anaconda3/lib/python3.8/site-packages (from BPTK_Py) (3.2.2)\n",
      "Requirement already satisfied: pyyaml>=3.10 in /Users/gauravkumar/opt/anaconda3/lib/python3.8/site-packages (from BPTK_Py) (5.3.1)\n",
      "Requirement already satisfied: pandas>=0.24.2 in /Users/gauravkumar/opt/anaconda3/lib/python3.8/site-packages (from BPTK_Py) (1.0.5)\n",
      "Requirement already satisfied: xlsxwriter in /Users/gauravkumar/opt/anaconda3/lib/python3.8/site-packages (from BPTK_Py) (1.2.9)\n",
      "Requirement already satisfied: jinja2>=2.11.2 in /Users/gauravkumar/opt/anaconda3/lib/python3.8/site-packages (from BPTK_Py) (2.11.2)\n",
      "Requirement already satisfied: jsonpickle in /Users/gauravkumar/opt/anaconda3/lib/python3.8/site-packages (from BPTK_Py) (2.2.0)\n",
      "Requirement already satisfied: ipywidgets>=7.4.2 in /Users/gauravkumar/opt/anaconda3/lib/python3.8/site-packages (from BPTK_Py) (7.5.1)\n",
      "Requirement already satisfied: xmltodict>=0.12.0 in /Users/gauravkumar/opt/anaconda3/lib/python3.8/site-packages (from BPTK_Py) (0.12.0)\n",
      "Requirement already satisfied: flask in /Users/gauravkumar/opt/anaconda3/lib/python3.8/site-packages (from BPTK_Py) (1.1.2)\n",
      "Requirement already satisfied: sympy in /Users/gauravkumar/opt/anaconda3/lib/python3.8/site-packages (from BPTK_Py) (1.6.1)\n",
      "Requirement already satisfied: scipy>=1.2.1 in /Users/gauravkumar/opt/anaconda3/lib/python3.8/site-packages (from BPTK_Py) (1.5.0)\n",
      "Requirement already satisfied: cachetools in /Users/gauravkumar/opt/anaconda3/lib/python3.8/site-packages (from BPTK_Py) (5.2.0)\n",
      "Requirement already satisfied: parsimonious>=0.8.1 in /Users/gauravkumar/opt/anaconda3/lib/python3.8/site-packages (from BPTK_Py) (0.9.0)\n",
      "Requirement already satisfied: chardet<4,>=3.0.2 in /Users/gauravkumar/opt/anaconda3/lib/python3.8/site-packages (from requests->BPTK_Py) (3.0.4)\n",
      "Requirement already satisfied: idna<3,>=2.5 in /Users/gauravkumar/opt/anaconda3/lib/python3.8/site-packages (from requests->BPTK_Py) (2.10)\n",
      "Requirement already satisfied: urllib3!=1.25.0,!=1.25.1,<1.26,>=1.21.1 in /Users/gauravkumar/opt/anaconda3/lib/python3.8/site-packages (from requests->BPTK_Py) (1.25.9)\n",
      "Requirement already satisfied: certifi>=2017.4.17 in /Users/gauravkumar/opt/anaconda3/lib/python3.8/site-packages (from requests->BPTK_Py) (2020.6.20)\n",
      "Requirement already satisfied: cycler>=0.10 in /Users/gauravkumar/opt/anaconda3/lib/python3.8/site-packages (from matplotlib>=3.0.3->BPTK_Py) (0.10.0)\n",
      "Requirement already satisfied: kiwisolver>=1.0.1 in /Users/gauravkumar/opt/anaconda3/lib/python3.8/site-packages (from matplotlib>=3.0.3->BPTK_Py) (1.2.0)\n",
      "Requirement already satisfied: pyparsing!=2.0.4,!=2.1.2,!=2.1.6,>=2.0.1 in /Users/gauravkumar/opt/anaconda3/lib/python3.8/site-packages (from matplotlib>=3.0.3->BPTK_Py) (2.4.7)\n",
      "Requirement already satisfied: python-dateutil>=2.1 in /Users/gauravkumar/opt/anaconda3/lib/python3.8/site-packages (from matplotlib>=3.0.3->BPTK_Py) (2.8.1)\n",
      "Requirement already satisfied: pytz>=2017.2 in /Users/gauravkumar/opt/anaconda3/lib/python3.8/site-packages (from pandas>=0.24.2->BPTK_Py) (2020.1)\n",
      "Requirement already satisfied: MarkupSafe>=0.23 in /Users/gauravkumar/opt/anaconda3/lib/python3.8/site-packages (from jinja2>=2.11.2->BPTK_Py) (1.1.1)\n",
      "Requirement already satisfied: ipython>=4.0.0; python_version >= \"3.3\" in /Users/gauravkumar/opt/anaconda3/lib/python3.8/site-packages (from ipywidgets>=7.4.2->BPTK_Py) (7.16.1)\n",
      "Requirement already satisfied: widgetsnbextension~=3.5.0 in /Users/gauravkumar/opt/anaconda3/lib/python3.8/site-packages (from ipywidgets>=7.4.2->BPTK_Py) (3.5.1)\n",
      "Requirement already satisfied: traitlets>=4.3.1 in /Users/gauravkumar/opt/anaconda3/lib/python3.8/site-packages (from ipywidgets>=7.4.2->BPTK_Py) (4.3.3)\n",
      "Requirement already satisfied: nbformat>=4.2.0 in /Users/gauravkumar/opt/anaconda3/lib/python3.8/site-packages (from ipywidgets>=7.4.2->BPTK_Py) (5.0.7)\n",
      "Requirement already satisfied: ipykernel>=4.5.1 in /Users/gauravkumar/opt/anaconda3/lib/python3.8/site-packages (from ipywidgets>=7.4.2->BPTK_Py) (5.3.2)\n",
      "Requirement already satisfied: Werkzeug>=0.15 in /Users/gauravkumar/opt/anaconda3/lib/python3.8/site-packages (from flask->BPTK_Py) (1.0.1)\n",
      "Requirement already satisfied: click>=5.1 in /Users/gauravkumar/opt/anaconda3/lib/python3.8/site-packages (from flask->BPTK_Py) (8.1.3)\n",
      "Requirement already satisfied: itsdangerous>=0.24 in /Users/gauravkumar/opt/anaconda3/lib/python3.8/site-packages (from flask->BPTK_Py) (1.1.0)\n",
      "Requirement already satisfied: mpmath>=0.19 in /Users/gauravkumar/opt/anaconda3/lib/python3.8/site-packages (from sympy->BPTK_Py) (1.1.0)\n",
      "Requirement already satisfied: regex>=2022.3.15 in /Users/gauravkumar/opt/anaconda3/lib/python3.8/site-packages (from parsimonious>=0.8.1->BPTK_Py) (2022.6.2)\n",
      "Requirement already satisfied: six in /Users/gauravkumar/opt/anaconda3/lib/python3.8/site-packages (from cycler>=0.10->matplotlib>=3.0.3->BPTK_Py) (1.15.0)\n",
      "Requirement already satisfied: appnope; sys_platform == \"darwin\" in /Users/gauravkumar/opt/anaconda3/lib/python3.8/site-packages (from ipython>=4.0.0; python_version >= \"3.3\"->ipywidgets>=7.4.2->BPTK_Py) (0.1.0)\n",
      "Requirement already satisfied: decorator in /Users/gauravkumar/opt/anaconda3/lib/python3.8/site-packages (from ipython>=4.0.0; python_version >= \"3.3\"->ipywidgets>=7.4.2->BPTK_Py) (4.4.2)\n",
      "Requirement already satisfied: pexpect; sys_platform != \"win32\" in /Users/gauravkumar/opt/anaconda3/lib/python3.8/site-packages (from ipython>=4.0.0; python_version >= \"3.3\"->ipywidgets>=7.4.2->BPTK_Py) (4.8.0)\n",
      "Requirement already satisfied: pickleshare in /Users/gauravkumar/opt/anaconda3/lib/python3.8/site-packages (from ipython>=4.0.0; python_version >= \"3.3\"->ipywidgets>=7.4.2->BPTK_Py) (0.7.5)\n",
      "Requirement already satisfied: jedi>=0.10 in /Users/gauravkumar/opt/anaconda3/lib/python3.8/site-packages (from ipython>=4.0.0; python_version >= \"3.3\"->ipywidgets>=7.4.2->BPTK_Py) (0.17.1)\n",
      "Requirement already satisfied: pygments in /Users/gauravkumar/opt/anaconda3/lib/python3.8/site-packages (from ipython>=4.0.0; python_version >= \"3.3\"->ipywidgets>=7.4.2->BPTK_Py) (2.6.1)\n",
      "Requirement already satisfied: setuptools>=18.5 in /Users/gauravkumar/opt/anaconda3/lib/python3.8/site-packages (from ipython>=4.0.0; python_version >= \"3.3\"->ipywidgets>=7.4.2->BPTK_Py) (49.2.0.post20200714)\n",
      "Requirement already satisfied: backcall in /Users/gauravkumar/opt/anaconda3/lib/python3.8/site-packages (from ipython>=4.0.0; python_version >= \"3.3\"->ipywidgets>=7.4.2->BPTK_Py) (0.2.0)\n",
      "Requirement already satisfied: prompt-toolkit!=3.0.0,!=3.0.1,<3.1.0,>=2.0.0 in /Users/gauravkumar/opt/anaconda3/lib/python3.8/site-packages (from ipython>=4.0.0; python_version >= \"3.3\"->ipywidgets>=7.4.2->BPTK_Py) (3.0.5)\n",
      "Requirement already satisfied: notebook>=4.4.1 in /Users/gauravkumar/opt/anaconda3/lib/python3.8/site-packages (from widgetsnbextension~=3.5.0->ipywidgets>=7.4.2->BPTK_Py) (6.0.3)\n",
      "Requirement already satisfied: ipython-genutils in /Users/gauravkumar/opt/anaconda3/lib/python3.8/site-packages (from traitlets>=4.3.1->ipywidgets>=7.4.2->BPTK_Py) (0.2.0)\n",
      "Requirement already satisfied: jsonschema!=2.5.0,>=2.4 in /Users/gauravkumar/opt/anaconda3/lib/python3.8/site-packages (from nbformat>=4.2.0->ipywidgets>=7.4.2->BPTK_Py) (3.2.0)\n",
      "Requirement already satisfied: jupyter-core in /Users/gauravkumar/opt/anaconda3/lib/python3.8/site-packages (from nbformat>=4.2.0->ipywidgets>=7.4.2->BPTK_Py) (4.6.3)\n",
      "Requirement already satisfied: tornado>=4.2 in /Users/gauravkumar/opt/anaconda3/lib/python3.8/site-packages (from ipykernel>=4.5.1->ipywidgets>=7.4.2->BPTK_Py) (6.0.4)\n",
      "Requirement already satisfied: jupyter-client in /Users/gauravkumar/opt/anaconda3/lib/python3.8/site-packages (from ipykernel>=4.5.1->ipywidgets>=7.4.2->BPTK_Py) (6.1.6)\n",
      "Requirement already satisfied: ptyprocess>=0.5 in /Users/gauravkumar/opt/anaconda3/lib/python3.8/site-packages (from pexpect; sys_platform != \"win32\"->ipython>=4.0.0; python_version >= \"3.3\"->ipywidgets>=7.4.2->BPTK_Py) (0.6.0)\n",
      "Requirement already satisfied: parso<0.8.0,>=0.7.0 in /Users/gauravkumar/opt/anaconda3/lib/python3.8/site-packages (from jedi>=0.10->ipython>=4.0.0; python_version >= \"3.3\"->ipywidgets>=7.4.2->BPTK_Py) (0.7.0)\n",
      "Requirement already satisfied: wcwidth in /Users/gauravkumar/opt/anaconda3/lib/python3.8/site-packages (from prompt-toolkit!=3.0.0,!=3.0.1,<3.1.0,>=2.0.0->ipython>=4.0.0; python_version >= \"3.3\"->ipywidgets>=7.4.2->BPTK_Py) (0.2.5)\n",
      "Requirement already satisfied: Send2Trash in /Users/gauravkumar/opt/anaconda3/lib/python3.8/site-packages (from notebook>=4.4.1->widgetsnbextension~=3.5.0->ipywidgets>=7.4.2->BPTK_Py) (1.5.0)\n",
      "Requirement already satisfied: nbconvert in /Users/gauravkumar/opt/anaconda3/lib/python3.8/site-packages (from notebook>=4.4.1->widgetsnbextension~=3.5.0->ipywidgets>=7.4.2->BPTK_Py) (5.6.1)\n"
     ]
    },
    {
     "name": "stdout",
     "output_type": "stream",
     "text": [
      "Requirement already satisfied: prometheus-client in /Users/gauravkumar/opt/anaconda3/lib/python3.8/site-packages (from notebook>=4.4.1->widgetsnbextension~=3.5.0->ipywidgets>=7.4.2->BPTK_Py) (0.8.0)\n",
      "Requirement already satisfied: terminado>=0.8.1 in /Users/gauravkumar/opt/anaconda3/lib/python3.8/site-packages (from notebook>=4.4.1->widgetsnbextension~=3.5.0->ipywidgets>=7.4.2->BPTK_Py) (0.8.3)\n",
      "Requirement already satisfied: pyzmq>=17 in /Users/gauravkumar/opt/anaconda3/lib/python3.8/site-packages (from notebook>=4.4.1->widgetsnbextension~=3.5.0->ipywidgets>=7.4.2->BPTK_Py) (19.0.1)\n",
      "Requirement already satisfied: attrs>=17.4.0 in /Users/gauravkumar/opt/anaconda3/lib/python3.8/site-packages (from jsonschema!=2.5.0,>=2.4->nbformat>=4.2.0->ipywidgets>=7.4.2->BPTK_Py) (19.3.0)\n",
      "Requirement already satisfied: pyrsistent>=0.14.0 in /Users/gauravkumar/opt/anaconda3/lib/python3.8/site-packages (from jsonschema!=2.5.0,>=2.4->nbformat>=4.2.0->ipywidgets>=7.4.2->BPTK_Py) (0.16.0)\n",
      "Requirement already satisfied: pandocfilters>=1.4.1 in /Users/gauravkumar/opt/anaconda3/lib/python3.8/site-packages (from nbconvert->notebook>=4.4.1->widgetsnbextension~=3.5.0->ipywidgets>=7.4.2->BPTK_Py) (1.4.2)\n",
      "Requirement already satisfied: bleach in /Users/gauravkumar/opt/anaconda3/lib/python3.8/site-packages (from nbconvert->notebook>=4.4.1->widgetsnbextension~=3.5.0->ipywidgets>=7.4.2->BPTK_Py) (3.1.5)\n",
      "Requirement already satisfied: mistune<2,>=0.8.1 in /Users/gauravkumar/opt/anaconda3/lib/python3.8/site-packages (from nbconvert->notebook>=4.4.1->widgetsnbextension~=3.5.0->ipywidgets>=7.4.2->BPTK_Py) (0.8.4)\n",
      "Requirement already satisfied: defusedxml in /Users/gauravkumar/opt/anaconda3/lib/python3.8/site-packages (from nbconvert->notebook>=4.4.1->widgetsnbextension~=3.5.0->ipywidgets>=7.4.2->BPTK_Py) (0.6.0)\n",
      "Requirement already satisfied: entrypoints>=0.2.2 in /Users/gauravkumar/opt/anaconda3/lib/python3.8/site-packages (from nbconvert->notebook>=4.4.1->widgetsnbextension~=3.5.0->ipywidgets>=7.4.2->BPTK_Py) (0.3)\n",
      "Requirement already satisfied: testpath in /Users/gauravkumar/opt/anaconda3/lib/python3.8/site-packages (from nbconvert->notebook>=4.4.1->widgetsnbextension~=3.5.0->ipywidgets>=7.4.2->BPTK_Py) (0.4.4)\n",
      "Requirement already satisfied: webencodings in /Users/gauravkumar/opt/anaconda3/lib/python3.8/site-packages (from bleach->nbconvert->notebook>=4.4.1->widgetsnbextension~=3.5.0->ipywidgets>=7.4.2->BPTK_Py) (0.5.1)\n",
      "Requirement already satisfied: packaging in /Users/gauravkumar/opt/anaconda3/lib/python3.8/site-packages (from bleach->nbconvert->notebook>=4.4.1->widgetsnbextension~=3.5.0->ipywidgets>=7.4.2->BPTK_Py) (20.4)\n",
      "Note: you may need to restart the kernel to use updated packages.\n"
     ]
    }
   ],
   "source": [
    "pip install BPTK_Py"
   ]
  },
  {
   "cell_type": "code",
   "execution_count": 3,
   "metadata": {},
   "outputs": [],
   "source": [
    "# BPTK_Py is a simple python library for system dynamics\n",
    "from BPTK_Py import Model \n",
    "from BPTK_Py import sd_functions as sd"
   ]
  },
  {
   "cell_type": "code",
   "execution_count": 4,
   "metadata": {},
   "outputs": [],
   "source": [
    "# create a model using the Model class. \n",
    "# model will contain all our model elements such as stocks, flows, converters and constants.\n",
    "model = Model(starttime=0,stoptime=120,dt=1,name='SimpleProjectManagament')"
   ]
  },
  {
   "cell_type": "code",
   "execution_count": 5,
   "metadata": {},
   "outputs": [],
   "source": [
    "# Creating model elements\n",
    "openTasks = model.stock(\"openTasks\")"
   ]
  },
  {
   "cell_type": "code",
   "execution_count": 6,
   "metadata": {},
   "outputs": [],
   "source": [
    "# Let us define the other model elements and variables \n",
    "closedTasks = model.stock(\"closedTasks\") \n",
    "staff = model.stock(\"staff\") \n",
    "completionRate = model.flow(\"completionRate\") \n",
    "currentTime = model.converter(\"currentTime\") \n",
    "remainingTime = model.converter(\"remainingTime\") \n",
    "schedulePressure = model.converter(\"schedulePressure\") \n",
    "productivity = model.converter(\"productivity\") \n",
    "deadline = model.constant(\"deadline\") \n",
    "effortPerTask = model.constant(\"effortPerTask\") \n",
    "initialStaff = model.constant(\"initialStaff\") \n",
    "initialOpenTasks = model.constant(\"initialOpenTasks\")"
   ]
  },
  {
   "cell_type": "code",
   "execution_count": 10,
   "metadata": {},
   "outputs": [],
   "source": [
    "#  let us initialize our stocks – to do this, we just need to set the initial_value property of the stocks. \n",
    "closedTasks.initial_value = 0.0\n",
    "staff.initial_value = initialStaff \n",
    "openTasks.initial_value = initialOpenTasks"
   ]
  },
  {
   "cell_type": "code",
   "execution_count": 13,
   "metadata": {},
   "outputs": [],
   "source": [
    "deadline.equation = 100.0\n",
    "effortPerTask.equation = 1.0\n",
    "initialStaff.equation = 1.0\n",
    "initialOpenTasks.equation = 100.0"
   ]
  },
  {
   "cell_type": "code",
   "execution_count": 14,
   "metadata": {},
   "outputs": [],
   "source": [
    "# The currentTime variable tracks the simulation time, which is captured by the time function in the SD function library.\n",
    "currentTime.equation=sd.time()"
   ]
  },
  {
   "cell_type": "code",
   "execution_count": 15,
   "metadata": {},
   "outputs": [],
   "source": [
    "# The remainingTime equals the difference between the deadline and the currentTime:\n",
    "remainingTime.equation = deadline - currentTime"
   ]
  },
  {
   "cell_type": "code",
   "execution_count": 17,
   "metadata": {},
   "outputs": [],
   "source": [
    "# the openTasks only have an outflow (defined by the completionRate) \n",
    "# and the closedTasks only have an inflow (also defined by the completionRate)\n",
    "openTasks.equation = -completionRate \n",
    "closedTasks.equation = completionRate"
   ]
  },
  {
   "cell_type": "code",
   "execution_count": 18,
   "metadata": {},
   "outputs": [],
   "source": [
    "# We use the min and max functions from the SD function library to ensure that no division by zero occurs \n",
    "# and that the schedule pressure is capped at 2.5:\n",
    "schedulePressure.equation = sd.min( (openTasks*effortPerTask)/ (staff*sd.max(remainingTime,1)), 2.5 )"
   ]
  },
  {
   "cell_type": "code",
   "execution_count": 21,
   "metadata": {},
   "outputs": [],
   "source": [
    "# We define the productivity in our model using a non-linear relationship \n",
    "# (depending on the schedule pressure). We capture this relationship in a lookup table \n",
    "# that we store in the points property of the model (using a Python list):\n",
    "model.points[\"productivity\"] = [ [0,0.4], [0.25,0.444], [0.5,0.506], [0.75,0.594], [1,1], [1.25,1.119], [1.5,1.1625], [1.75,1.2125], [2,1.2375], [2.25,1.245], [2.5,1.25] ]"
   ]
  },
  {
   "cell_type": "code",
   "execution_count": 22,
   "metadata": {},
   "outputs": [
    {
     "data": {
      "image/png": "[encoded data removed]",
      "text/plain": [
       "<Figure size 1440x720 with 1 Axes>"
      ]
     },
     "metadata": {
      "needs_background": "light"
     },
     "output_type": "display_data"
    }
   ],
   "source": [
    "# plot the lookup table to see whether it has the right shape:\n",
    "model.plot_lookup(\"productivity\")"
   ]
  },
  {
   "cell_type": "code",
   "execution_count": null,
   "metadata": {},
   "outputs": [],
   "source": []
  }
 ],
 "metadata": {
  "kernelspec": {
   "display_name": "Python 3",
   "language": "python",
   "name": "python3"
  },
  "language_info": {
   "codemirror_mode": {
    "name": "ipython",
    "version": 3
   },
   "file_extension": ".py",
   "mimetype": "text/x-python",
   "name": "python",
   "nbconvert_exporter": "python",
   "pygments_lexer": "ipython3",
   "version": "3.8.3"
  }
 },
 "nbformat": 4,
 "nbformat_minor": 4
}
