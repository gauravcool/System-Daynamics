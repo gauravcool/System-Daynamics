{
 "cells": [
  {
   "cell_type": "code",
   "execution_count": 1,
   "metadata": {},
   "outputs": [
    {
     "name": "stdout",
     "output_type": "stream",
     "text": [
      "\u001b[33mWARNING: Retrying (Retry(total=4, connect=None, read=None, redirect=None, status=None)) after connection broken by 'ConnectTimeoutError(<pip._vendor.urllib3.connection.VerifiedHTTPSConnection object at 0x7fd31da64c40>, 'Connection to pypi.org timed out. (connect timeout=15)')': /simple/pysd/\u001b[0m\n",
      "\u001b[33mWARNING: Retrying (Retry(total=3, connect=None, read=None, redirect=None, status=None)) after connection broken by 'ConnectTimeoutError(<pip._vendor.urllib3.connection.VerifiedHTTPSConnection object at 0x7fd31da64c10>, 'Connection to pypi.org timed out. (connect timeout=15)')': /simple/pysd/\u001b[0m\n",
      "Collecting pysd\n",
      "  Downloading pysd-3.0.1-py3-none-any.whl (120 kB)\n",
      "\u001b[K     |████████████████████████████████| 120 kB 762 kB/s eta 0:00:01\n",
      "\u001b[?25hRequirement already satisfied: regex in /Users/gauravkumar/opt/anaconda3/lib/python3.8/site-packages (from pysd) (2020.6.8)\n",
      "Collecting xarray\n",
      "  Downloading xarray-2022.3.0-py3-none-any.whl (870 kB)\n",
      "\u001b[K     |████████████████████████████████| 870 kB 276 kB/s eta 0:00:01\n",
      "\u001b[?25hRequirement already satisfied: chardet in /Users/gauravkumar/opt/anaconda3/lib/python3.8/site-packages (from pysd) (3.0.4)\n",
      "Requirement already satisfied: scipy in /Users/gauravkumar/opt/anaconda3/lib/python3.8/site-packages (from pysd) (1.5.0)\n",
      "Collecting parsimonious\n",
      "  Downloading parsimonious-0.9.0.tar.gz (48 kB)\n",
      "\u001b[K     |████████████████████████████████| 48 kB 240 kB/s eta 0:00:01\n",
      "\u001b[?25hCollecting progressbar2\n",
      "  Downloading progressbar2-4.0.0-py2.py3-none-any.whl (26 kB)\n",
      "Collecting black\n",
      "  Downloading black-22.3.0-cp38-cp38-macosx_10_9_x86_64.whl (1.3 MB)\n",
      "\u001b[K     |████████████████████████████████| 1.3 MB 650 kB/s eta 0:00:01\n",
      "\u001b[?25hRequirement already satisfied: pandas in /Users/gauravkumar/opt/anaconda3/lib/python3.8/site-packages (from pysd) (1.0.5)\n",
      "Requirement already satisfied: lxml in /Users/gauravkumar/opt/anaconda3/lib/python3.8/site-packages (from pysd) (4.5.2)\n",
      "Requirement already satisfied: openpyxl in /Users/gauravkumar/opt/anaconda3/lib/python3.8/site-packages (from pysd) (3.0.4)\n",
      "Requirement already satisfied: xlrd in /Users/gauravkumar/opt/anaconda3/lib/python3.8/site-packages (from pysd) (1.2.0)\n",
      "Requirement already satisfied: packaging>=20.0 in /Users/gauravkumar/opt/anaconda3/lib/python3.8/site-packages (from xarray->pysd) (20.4)\n",
      "Requirement already satisfied: numpy>=1.18 in /Users/gauravkumar/opt/anaconda3/lib/python3.8/site-packages (from xarray->pysd) (1.18.5)\n",
      "Collecting python-utils>=3.0.0\n",
      "  Downloading python_utils-3.2.3-py2.py3-none-any.whl (20 kB)\n",
      "Collecting click>=8.0.0\n",
      "  Downloading click-8.1.3-py3-none-any.whl (96 kB)\n",
      "\u001b[K     |████████████████████████████████| 96 kB 586 kB/s eta 0:00:01\n",
      "\u001b[?25hCollecting tomli>=1.1.0; python_version < \"3.11\"\n",
      "  Downloading tomli-2.0.1-py3-none-any.whl (12 kB)\n",
      "Collecting platformdirs>=2\n",
      "  Downloading platformdirs-2.5.2-py3-none-any.whl (14 kB)\n",
      "Collecting mypy-extensions>=0.4.3\n",
      "  Downloading mypy_extensions-0.4.3-py2.py3-none-any.whl (4.5 kB)\n",
      "Requirement already satisfied: typing-extensions>=3.10.0.0; python_version < \"3.10\" in /Users/gauravkumar/opt/anaconda3/lib/python3.8/site-packages (from black->pysd) (4.0.1)\n",
      "Collecting pathspec>=0.9.0\n",
      "  Downloading pathspec-0.9.0-py2.py3-none-any.whl (31 kB)\n",
      "Requirement already satisfied: pytz>=2017.2 in /Users/gauravkumar/opt/anaconda3/lib/python3.8/site-packages (from pandas->pysd) (2020.1)\n",
      "Requirement already satisfied: python-dateutil>=2.6.1 in /Users/gauravkumar/opt/anaconda3/lib/python3.8/site-packages (from pandas->pysd) (2.8.1)\n",
      "Requirement already satisfied: et-xmlfile in /Users/gauravkumar/opt/anaconda3/lib/python3.8/site-packages (from openpyxl->pysd) (1.0.1)\n",
      "Requirement already satisfied: jdcal in /Users/gauravkumar/opt/anaconda3/lib/python3.8/site-packages (from openpyxl->pysd) (1.4.1)\n",
      "Requirement already satisfied: pyparsing>=2.0.2 in /Users/gauravkumar/opt/anaconda3/lib/python3.8/site-packages (from packaging>=20.0->xarray->pysd) (2.4.7)\n",
      "Requirement already satisfied: six in /Users/gauravkumar/opt/anaconda3/lib/python3.8/site-packages (from packaging>=20.0->xarray->pysd) (1.15.0)\n",
      "Building wheels for collected packages: parsimonious\n",
      "  Building wheel for parsimonious (setup.py) ... \u001b[?25ldone\n",
      "\u001b[?25h  Created wheel for parsimonious: filename=parsimonious-0.9.0-py3-none-any.whl size=44301 sha256=61524957fd9d8cbe4883dcf13b271ee0fec1e102c9ff9d9cd102485d14de5e9e\n",
      "  Stored in directory: /Users/gauravkumar/Library/Caches/pip/wheels/6d/4a/73/c75aa7ffc64d339df63d038efe209bc9cf177e5b98cbfa611f\n",
      "Successfully built parsimonious\n",
      "\u001b[31mERROR: xarray 2022.3.0 has requirement pandas>=1.1, but you'll have pandas 1.0.5 which is incompatible.\u001b[0m\n",
      "\u001b[31mERROR: parsimonious 0.9.0 has requirement regex>=2022.3.15, but you'll have regex 2020.6.8 which is incompatible.\u001b[0m\n",
      "Installing collected packages: xarray, parsimonious, python-utils, progressbar2, click, tomli, platformdirs, mypy-extensions, pathspec, black, pysd\n",
      "  Attempting uninstall: click\n",
      "    Found existing installation: click 7.1.2\n",
      "    Uninstalling click-7.1.2:\n",
      "      Successfully uninstalled click-7.1.2\n",
      "Successfully installed black-22.3.0 click-8.1.3 mypy-extensions-0.4.3 parsimonious-0.9.0 pathspec-0.9.0 platformdirs-2.5.2 progressbar2-4.0.0 pysd-3.0.1 python-utils-3.2.3 tomli-2.0.1 xarray-2022.3.0\n",
      "Note: you may need to restart the kernel to use updated packages.\n"
     ]
    }
   ],
   "source": [
    "pip install pysd"
   ]
  },
  {
   "cell_type": "code",
   "execution_count": 31,
   "metadata": {},
   "outputs": [],
   "source": [
    "import pysd # importing the PySD module\n",
    "import numpy as np\n",
    "import matplotlib.pyplot as plt"
   ]
  },
  {
   "cell_type": "code",
   "execution_count": 32,
   "metadata": {},
   "outputs": [],
   "source": [
    "# inventory=pysd.read_vensim('Inventory.mdl')"
   ]
  },
  {
   "cell_type": "code",
   "execution_count": 36,
   "metadata": {},
   "outputs": [],
   "source": [
    "# use PySD’s Vensim model translator to import the model from the Vensim model file and create a model object\n",
    "model = pysd.read_vensim('PySD-Cookbook-master/source/models/Teacup/Teacup.mdl')\n",
    "# The read_vensim command we have just run does two things. First it translates the model into a python module\n",
    "# which is stored ../../models/Teacup/Teacup.py in the same directory as the original file"
   ]
  },
  {
   "cell_type": "code",
   "execution_count": 34,
   "metadata": {},
   "outputs": [
    {
     "data": {
      "text/html": [
       "<div>\n",
       "<style scoped>\n",
       "    .dataframe tbody tr th:only-of-type {\n",
       "        vertical-align: middle;\n",
       "    }\n",
       "\n",
       "    .dataframe tbody tr th {\n",
       "        vertical-align: top;\n",
       "    }\n",
       "\n",
       "    .dataframe thead th {\n",
       "        text-align: right;\n",
       "    }\n",
       "</style>\n",
       "<table border=\"1\" class=\"dataframe\">\n",
       "  <thead>\n",
       "    <tr style=\"text-align: right;\">\n",
       "      <th></th>\n",
       "      <th>FINAL TIME</th>\n",
       "      <th>INITIAL TIME</th>\n",
       "      <th>SAVEPER</th>\n",
       "      <th>TIME STEP</th>\n",
       "      <th>Characteristic Time</th>\n",
       "      <th>Heat Loss to Room</th>\n",
       "      <th>Room Temperature</th>\n",
       "      <th>Teacup Temperature</th>\n",
       "    </tr>\n",
       "  </thead>\n",
       "  <tbody>\n",
       "    <tr>\n",
       "      <th>0.000</th>\n",
       "      <td>30</td>\n",
       "      <td>0</td>\n",
       "      <td>0.125</td>\n",
       "      <td>0.125</td>\n",
       "      <td>10</td>\n",
       "      <td>11.000000</td>\n",
       "      <td>70</td>\n",
       "      <td>180.000000</td>\n",
       "    </tr>\n",
       "    <tr>\n",
       "      <th>0.125</th>\n",
       "      <td>30</td>\n",
       "      <td>0</td>\n",
       "      <td>0.125</td>\n",
       "      <td>0.125</td>\n",
       "      <td>10</td>\n",
       "      <td>10.862500</td>\n",
       "      <td>70</td>\n",
       "      <td>178.625000</td>\n",
       "    </tr>\n",
       "    <tr>\n",
       "      <th>0.250</th>\n",
       "      <td>30</td>\n",
       "      <td>0</td>\n",
       "      <td>0.125</td>\n",
       "      <td>0.125</td>\n",
       "      <td>10</td>\n",
       "      <td>10.726719</td>\n",
       "      <td>70</td>\n",
       "      <td>177.267188</td>\n",
       "    </tr>\n",
       "    <tr>\n",
       "      <th>0.375</th>\n",
       "      <td>30</td>\n",
       "      <td>0</td>\n",
       "      <td>0.125</td>\n",
       "      <td>0.125</td>\n",
       "      <td>10</td>\n",
       "      <td>10.592635</td>\n",
       "      <td>70</td>\n",
       "      <td>175.926348</td>\n",
       "    </tr>\n",
       "    <tr>\n",
       "      <th>0.500</th>\n",
       "      <td>30</td>\n",
       "      <td>0</td>\n",
       "      <td>0.125</td>\n",
       "      <td>0.125</td>\n",
       "      <td>10</td>\n",
       "      <td>10.460227</td>\n",
       "      <td>70</td>\n",
       "      <td>174.602268</td>\n",
       "    </tr>\n",
       "  </tbody>\n",
       "</table>\n",
       "</div>"
      ],
      "text/plain": [
       "       FINAL TIME  INITIAL TIME  SAVEPER  TIME STEP  Characteristic Time  \\\n",
       "0.000          30             0    0.125      0.125                   10   \n",
       "0.125          30             0    0.125      0.125                   10   \n",
       "0.250          30             0    0.125      0.125                   10   \n",
       "0.375          30             0    0.125      0.125                   10   \n",
       "0.500          30             0    0.125      0.125                   10   \n",
       "\n",
       "       Heat Loss to Room  Room Temperature  Teacup Temperature  \n",
       "0.000          11.000000                70          180.000000  \n",
       "0.125          10.862500                70          178.625000  \n",
       "0.250          10.726719                70          177.267188  \n",
       "0.375          10.592635                70          175.926348  \n",
       "0.500          10.460227                70          174.602268  "
      ]
     },
     "execution_count": 34,
     "metadata": {},
     "output_type": "execute_result"
    }
   ],
   "source": [
    "# To understand the general behavior of the model, we can run a simulation using the default parameters specified by\n",
    "# the Vensim model file. The default behavior of the run function is to return the value of all variables as a pandas\n",
    "# dataframe:\n",
    "values = model.run()\n",
    "values.head(5)"
   ]
  },
  {
   "cell_type": "code",
   "execution_count": 35,
   "metadata": {},
   "outputs": [
    {
     "data": {
      "text/plain": [
       "<matplotlib.legend.Legend at 0x7fcc78c22130>"
      ]
     },
     "execution_count": 35,
     "metadata": {},
     "output_type": "execute_result"
    },
    {
     "data": {
      "image/png": "[encoded data removed]",
      "text/plain": [
       "<Figure size 432x288 with 1 Axes>"
      ]
     },
     "metadata": {
      "needs_background": "light"
     },
     "output_type": "display_data"
    }
   ],
   "source": [
    "# Pandas has some simple plotting utility built in which allows us to easily visualize the results.\n",
    "values.plot()\n",
    "plt.ylabel('Degrees F')\n",
    "plt.xlabel('Minutes')\n",
    "plt.legend(loc='center left', bbox_to_anchor=(1,.5))"
   ]
  },
  {
   "cell_type": "code",
   "execution_count": null,
   "metadata": {},
   "outputs": [],
   "source": []
  }
 ],
 "metadata": {
  "kernelspec": {
   "display_name": "Python 3",
   "language": "python",
   "name": "python3"
  },
  "language_info": {
   "codemirror_mode": {
    "name": "ipython",
    "version": 3
   },
   "file_extension": ".py",
   "mimetype": "text/x-python",
   "name": "python",
   "nbconvert_exporter": "python",
   "pygments_lexer": "ipython3",
   "version": "3.8.3"
  }
 },
 "nbformat": 4,
 "nbformat_minor": 4
}
