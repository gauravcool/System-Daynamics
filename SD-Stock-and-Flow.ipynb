{
 "cells": [
  {
   "cell_type": "markdown",
   "metadata": {},
   "source": [
    "### Python program to create a system dynamics model (Stock-and-Flow)"
   ]
  },
  {
   "cell_type": "markdown",
   "metadata": {},
   "source": [
    "#### In System Dynamics, models are created using “Stock-and-Flow” diagrams.\n",
    "\n",
    "#### A stock, in System Dynamics, is a quantity that accumulates. \n",
    "\n",
    "####  Flows are quantities that increase or decrease a Stock. If a flow increases the Stock, it is called an “inflow”, and if it reduces the stock, it is called an “outflow.”"
   ]
  },
  {
   "cell_type": "code",
   "execution_count": 10,
   "metadata": {},
   "outputs": [],
   "source": [
    "class DynamicModel:\n",
    "    #defining the essential variables in the model\n",
    "    def __init__(self, stock_initial=0, start_time=0, end_time=0, inflow=0, outflow=0):\n",
    "        self.stock_initial = stock_initial # the value of the stock at the beginning time of the model\n",
    "        self.start_time = start_time\n",
    "        self.end_time = end_time\n",
    "        self.inflow = inflow\n",
    "        self.outflow = outflow\n",
    "        \n",
    "    def stock_behavior(self):\n",
    "        difference = self.inflow - self.outflow # “inflow” less “outflow.”\n",
    "        for time in range(self.start_time, self.end_time + 1, 1):\n",
    "            #  “for” loop called time using the “Start_time” as the start mark in the range function \n",
    "            # and “End_time + 1” as the stop mark in the range function — because otherwise, python would have \n",
    "            # actually set the stop mark at one less the End_time resulting in a wrong end time for my model.\n",
    "            netflow = difference * time\n",
    "            # print a dictionary where time is the indepedent variable — being my key in this case — \n",
    "            # and the sum of “Stock_Initial” and “Netflow” — being my value\n",
    "            print({time: self.stock_initial + netflow})"
   ]
  },
  {
   "cell_type": "code",
   "execution_count": 11,
   "metadata": {},
   "outputs": [],
   "source": [
    "sysdyn = DynamicModel(11,0,30,11,7)\n",
    "# defined the “Stock_Initial” as 11, “Start_time” as 0, “End_time” as 30, “inflow” as 11, and “outflow” as 7"
   ]
  },
  {
   "cell_type": "code",
   "execution_count": 12,
   "metadata": {},
   "outputs": [
    {
     "name": "stdout",
     "output_type": "stream",
     "text": [
      "{0: 11}\n",
      "{1: 15}\n",
      "{2: 19}\n",
      "{3: 23}\n",
      "{4: 27}\n",
      "{5: 31}\n",
      "{6: 35}\n",
      "{7: 39}\n",
      "{8: 43}\n",
      "{9: 47}\n",
      "{10: 51}\n",
      "{11: 55}\n",
      "{12: 59}\n",
      "{13: 63}\n",
      "{14: 67}\n",
      "{15: 71}\n",
      "{16: 75}\n",
      "{17: 79}\n",
      "{18: 83}\n",
      "{19: 87}\n",
      "{20: 91}\n",
      "{21: 95}\n",
      "{22: 99}\n",
      "{23: 103}\n",
      "{24: 107}\n",
      "{25: 111}\n",
      "{26: 115}\n",
      "{27: 119}\n",
      "{28: 123}\n",
      "{29: 127}\n",
      "{30: 131}\n"
     ]
    }
   ],
   "source": [
    "sysdyn.stock_behavior()\n",
    "s = sysdyn.stock_initial\n",
    "st = sysdyn.start_time\n",
    "et = sysdyn.end_time\n",
    "i = sysdyn.inflow\n",
    "o = sysdyn.outflow"
   ]
  },
  {
   "cell_type": "code",
   "execution_count": 13,
   "metadata": {},
   "outputs": [
    {
     "name": "stdout",
     "output_type": "stream",
     "text": [
      "The initial value of stock is: 11\n",
      "The start time is: 0\n",
      "The end time is: 30\n",
      "The inflow is: 11\n",
      "The outflow is: 7\n"
     ]
    }
   ],
   "source": [
    "print('The initial value of stock is:', s)\n",
    "print('The start time is:', st)\n",
    "print('The end time is:', et)\n",
    "print('The inflow is:', i)\n",
    "print('The outflow is:', o)"
   ]
  },
  {
   "cell_type": "code",
   "execution_count": null,
   "metadata": {},
   "outputs": [],
   "source": []
  }
 ],
 "metadata": {
  "kernelspec": {
   "display_name": "Python 3",
   "language": "python",
   "name": "python3"
  },
  "language_info": {
   "codemirror_mode": {
    "name": "ipython",
    "version": 3
   },
   "file_extension": ".py",
   "mimetype": "text/x-python",
   "name": "python",
   "nbconvert_exporter": "python",
   "pygments_lexer": "ipython3",
   "version": "3.8.3"
  }
 },
 "nbformat": 4,
 "nbformat_minor": 4
}
