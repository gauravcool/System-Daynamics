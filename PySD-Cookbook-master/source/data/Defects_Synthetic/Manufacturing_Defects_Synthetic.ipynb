{
 "cells": [
  {
   "cell_type": "markdown",
   "metadata": {},
   "source": [
    "# Manufacturing Defects Synthetic Data\n",
    "\n",
    "In this notebook we generate some data that will represent measurements of defects in a manufacturing setting."
   ]
  },
  {
   "cell_type": "code",
   "execution_count": 1,
   "metadata": {
    "collapsed": true
   },
   "outputs": [],
   "source": [
    "import numpy as np\n",
    "import pandas as pd"
   ]
  },
  {
   "cell_type": "code",
   "execution_count": 2,
   "metadata": {
    "collapsed": true
   },
   "outputs": [],
   "source": [
    "#generate synthetic data\n",
    "Factors = []\n",
    "Outcome = []\n",
    "numpoints = 2000\n",
    "for workday, time_per_task  in zip(np.random.normal(loc=.3, scale=.05, size=numpoints), np.random.normal(loc=.05, scale=.01, size=numpoints)):\n",
    "    Factors.append([workday, time_per_task])\n",
    "    Outcome.append( 0*workday**2/(time_per_task**2) + 1/time_per_task**1.5 + 1000*workday**1.5)"
   ]
  },
  {
   "cell_type": "code",
   "execution_count": 3,
   "metadata": {
    "collapsed": false
   },
   "outputs": [
    {
     "data": {
      "text/html": [
       "<div>\n",
       "<table border=\"1\" class=\"dataframe\">\n",
       "  <thead>\n",
       "    <tr style=\"text-align: right;\">\n",
       "      <th></th>\n",
       "      <th>Workday</th>\n",
       "      <th>Time per Task</th>\n",
       "      <th>Defect Rate</th>\n",
       "    </tr>\n",
       "  </thead>\n",
       "  <tbody>\n",
       "    <tr>\n",
       "      <th>0</th>\n",
       "      <td>0.357563</td>\n",
       "      <td>0.036497</td>\n",
       "      <td>0.066678</td>\n",
       "    </tr>\n",
       "    <tr>\n",
       "      <th>1</th>\n",
       "      <td>0.300276</td>\n",
       "      <td>0.035329</td>\n",
       "      <td>0.063891</td>\n",
       "    </tr>\n",
       "    <tr>\n",
       "      <th>2</th>\n",
       "      <td>0.301040</td>\n",
       "      <td>0.054992</td>\n",
       "      <td>0.049828</td>\n",
       "    </tr>\n",
       "    <tr>\n",
       "      <th>3</th>\n",
       "      <td>0.290333</td>\n",
       "      <td>0.046289</td>\n",
       "      <td>0.046932</td>\n",
       "    </tr>\n",
       "    <tr>\n",
       "      <th>4</th>\n",
       "      <td>0.384306</td>\n",
       "      <td>0.050605</td>\n",
       "      <td>0.064480</td>\n",
       "    </tr>\n",
       "  </tbody>\n",
       "</table>\n",
       "</div>"
      ],
      "text/plain": [
       "    Workday  Time per Task  Defect Rate\n",
       "0  0.357563       0.036497     0.066678\n",
       "1  0.300276       0.035329     0.063891\n",
       "2  0.301040       0.054992     0.049828\n",
       "3  0.290333       0.046289     0.046932\n",
       "4  0.384306       0.050605     0.064480"
      ]
     },
     "execution_count": 3,
     "metadata": {},
     "output_type": "execute_result"
    }
   ],
   "source": [
    "data = pd.DataFrame(Factors, columns=['Workday', 'Time per Task'])\n",
    "data['Defect Rate'] = Outcome\n",
    "data['Defect Rate']/= data['Defect Rate'].max()*10\n",
    "data['Defect Rate'] += np.random.normal(scale=.003, size=len(data['Defect Rate']))\n",
    "data.head()"
   ]
  },
  {
   "cell_type": "code",
   "execution_count": 4,
   "metadata": {
    "collapsed": true
   },
   "outputs": [],
   "source": [
    "data.to_csv('Manufacturing_Defects_Synthetic_Data.csv')"
   ]
  },
  {
   "cell_type": "code",
   "execution_count": null,
   "metadata": {
    "collapsed": true
   },
   "outputs": [],
   "source": []
  }
 ],
 "metadata": {
  "kernelspec": {
   "display_name": "Python 2",
   "language": "python",
   "name": "python2"
  },
  "language_info": {
   "codemirror_mode": {
    "name": "ipython",
    "version": 2
   },
   "file_extension": ".py",
   "mimetype": "text/x-python",
   "name": "python",
   "nbconvert_exporter": "python",
   "pygments_lexer": "ipython2",
   "version": "2.7.6"
  }
 },
 "nbformat": 4,
 "nbformat_minor": 0
}
