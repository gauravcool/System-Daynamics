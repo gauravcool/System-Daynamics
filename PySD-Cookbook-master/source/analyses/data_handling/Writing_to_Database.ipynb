{
 "cells": [
  {
   "cell_type": "markdown",
   "metadata": {},
   "source": [
    "# Saving Simulation Results to a Database\n",
    "\n",
    "There are a number of reasons why you might want to save simulation results to a database:\n",
    "\n",
    "- Observing changes in model output over the course of model development\n",
    "- Cacheing runs of a model to speed later analysis or display, especially in large models\n",
    "- Creating a traceable record of your work\n",
    "\n",
    "It's relatively easy to set up a sequel database and commit runs output to it. This demo uses sqlite, which creates a database in a local file."
   ]
  },
  {
   "cell_type": "code",
   "execution_count": 1,
   "metadata": {
    "collapsed": true
   },
   "outputs": [],
   "source": [
    "import sqlite3\n",
    "import numpy as np\n",
    "import pysd"
   ]
  },
  {
   "cell_type": "markdown",
   "metadata": {},
   "source": [
    "## Ingredients\n"
   ]
  },
  {
   "cell_type": "markdown",
   "metadata": {},
   "source": [
    "#### Model\n",
    "We'll use the simple teacup model for this experiment, and we'll ask for the value at integer times from `[0..29]`."
   ]
  },
  {
   "cell_type": "code",
   "execution_count": 2,
   "metadata": {
    "collapsed": false
   },
   "outputs": [],
   "source": [
    "model = pysd.read_vensim('../../models/Teacup/Teacup.mdl')\n",
    "tseries = range(30)"
   ]
  },
  {
   "cell_type": "markdown",
   "metadata": {},
   "source": [
    "#### A database\n",
    "In this example, we'll create a database which will be saved in the working directory as `example.db`. We populate its columns with two columns for storing the parameter values that we'll change from run to run, and then a column for each timestamp value we intend to save:"
   ]
  },
  {
   "cell_type": "code",
   "execution_count": 3,
   "metadata": {
    "collapsed": false
   },
   "outputs": [],
   "source": [
    "conn = sqlite3.connect('example.db')\n",
    "c = conn.cursor()\n",
    "\n",
    "# Create table\n",
    "c.execute('''CREATE TABLE simulations\n",
    "             (room_temperature real, init_teacup_temperature real, \n",
    "              %s ) '''%', '.join(['t%i real'%i for i in tseries]));"
   ]
  },
  {
   "cell_type": "markdown",
   "metadata": {},
   "source": [
    "####Parameters\n",
    "We want to save the output of our model when driven with a variety of parameters. For demonstration, we'll set these randomly:"
   ]
  },
  {
   "cell_type": "code",
   "execution_count": 4,
   "metadata": {
    "collapsed": true
   },
   "outputs": [],
   "source": [
    "room_temps = np.random.normal(75, 5, 100)\n",
    "init_tea_temps = np.random.normal(175, 15, 100)"
   ]
  },
  {
   "cell_type": "markdown",
   "metadata": {},
   "source": [
    "## The Recipe\n",
    "\n",
    "We're now ready to simulate our model with the various parameters. After execution, we construct a SQL insert querry containing each of the returned values, and commit it to the database."
   ]
  },
  {
   "cell_type": "code",
   "execution_count": 5,
   "metadata": {
    "collapsed": false
   },
   "outputs": [],
   "source": [
    "\n",
    "for room_temp, init_tea_temp in zip(room_temps, init_tea_temps):\n",
    "    output = model.run(params={'room_temperature':room_temp}, \n",
    "                       initial_condition=(0,{'teacup_temperature':init_tea_temp}),\n",
    "                       return_timestamps=tseries)\n",
    "    \n",
    "    c.execute(\"INSERT INTO simulations VALUES (%i,%i,%s)\"%\n",
    "              (room_temp, init_tea_temp, ', '.join(output['teacup_temperature'].apply(str))))\n",
    "\n",
    "    conn.commit()\n"
   ]
  },
  {
   "cell_type": "markdown",
   "metadata": {},
   "source": [
    "We can see that the result was added properly by fetching a record:"
   ]
  },
  {
   "cell_type": "code",
   "execution_count": 6,
   "metadata": {
    "collapsed": false
   },
   "outputs": [
    {
     "data": {
      "text/plain": [
       "(76.0,\n",
       " 164.0,\n",
       " 164.722280167,\n",
       " 156.282130733,\n",
       " 148.64516467,\n",
       " 141.734949777,\n",
       " 135.482334802,\n",
       " 129.824731228,\n",
       " 124.705520938,\n",
       " 120.073467412,\n",
       " 115.882212071,\n",
       " 112.089807732,\n",
       " 108.658298586,\n",
       " 105.55333885,\n",
       " 102.74385565,\n",
       " 100.201730758,\n",
       " 97.9015209724,\n",
       " 95.8202050685,\n",
       " 93.9369526016,\n",
       " 92.232915272,\n",
       " 90.69103831,\n",
       " 89.2958904907,\n",
       " 88.0335085264,\n",
       " 86.8912580882,\n",
       " 85.8577072325,\n",
       " 84.9225116976,\n",
       " 84.0763117951,\n",
       " 83.310638529,\n",
       " 82.6178286757,\n",
       " 81.9909483832,\n",
       " 81.4237236618,\n",
       " 80.9104773994)"
      ]
     },
     "execution_count": 6,
     "metadata": {},
     "output_type": "execute_result"
    }
   ],
   "source": [
    "c.execute('SELECT * FROM simulations')\n",
    "c.fetchone()"
   ]
  },
  {
   "cell_type": "markdown",
   "metadata": {},
   "source": [
    "Finally, we must remember to close our connection to the database:"
   ]
  },
  {
   "cell_type": "code",
   "execution_count": 7,
   "metadata": {
    "collapsed": true
   },
   "outputs": [],
   "source": [
    "conn.close()"
   ]
  },
  {
   "cell_type": "code",
   "execution_count": 8,
   "metadata": {
    "collapsed": false
   },
   "outputs": [],
   "source": [
    "#remove the database file when we are finished with it.\n",
    "!rm example.db"
   ]
  }
 ],
 "metadata": {
  "kernelspec": {
   "display_name": "Python 2",
   "language": "python",
   "name": "python2"
  },
  "language_info": {
   "codemirror_mode": {
    "name": "ipython",
    "version": 2
   },
   "file_extension": ".py",
   "mimetype": "text/x-python",
   "name": "python",
   "nbconvert_exporter": "python",
   "pygments_lexer": "ipython2",
   "version": "2.7.6"
  }
 },
 "nbformat": 4,
 "nbformat_minor": 0
}
