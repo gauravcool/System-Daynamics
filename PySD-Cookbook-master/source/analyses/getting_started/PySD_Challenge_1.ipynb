{
 "cells": [
  {
   "cell_type": "markdown",
   "metadata": {
    "slideshow": {
     "slide_type": "slide"
    }
   },
   "source": [
    "# SIR Peak Infection Challenge\n",
    "\n",
    "You are the chief epidemiologist of the [McMurdo](https://en.wikipedia.org/wiki/McMurdo_Station) Antartic Research Station, a scientific outpost with a population of 1000 persons. A new and unusual disease, currently known as penguin foot, has struck 10 individuals in the camp, and seems to be spreading. \n",
    "\n",
    "The disease has several properties. While infected (and contagious), individuals behave as normal but are unable to drive [snow machines](https://youtu.be/gcIwrdeP21s?t=1m46s), the base's primary mode of evacuation in case of an emergency. (It is universally acknowledged that penguins cannot drive snow machines.) Snow machines can carry one passenger in addition to the driver, and so at any given time, at least half of the population must be able to drive."
   ]
  },
  {
   "cell_type": "markdown",
   "metadata": {
    "slideshow": {
     "slide_type": "slide"
    }
   },
   "source": [
    "The period of infection is on average 10 days, after which individuals return to their normal state and are immune to further infection. The infectivity of the disease is much less well known. The chance of infection from an encounter between an infected and a non-infected person could be anywhere from 0.5% to 10%.\n",
    "\n",
    "As there are no lasting consequences of penguin foot, the base has continued to operate as normal, with each individual coming into contact with about 25 people per day, with relatively uniform mixing between individuals. \n"
   ]
  },
  {
   "cell_type": "markdown",
   "metadata": {
    "slideshow": {
     "slide_type": "slide"
    }
   },
   "source": [
    "The primary danger posed by the disease is that there will come a point when there aren't enough people to drive snow machines. Your task is to calculate the maximum number of infections for a range of values of infectivity between `.005` and `0.1`.\n",
    "\n",
    "Specifically, you need to know the minimum value of infectivity that is sufficient to incapacitate over half the base at one time, so that as new measurements become available, you can assess the risk of this possibility."
   ]
  },
  {
   "cell_type": "markdown",
   "metadata": {
    "slideshow": {
     "slide_type": "slide"
    }
   },
   "source": [
    "### Load libraries\n",
    "The cell below gets us started by loading the plotting library. \n",
    "\n",
    "Add a line to this cell to load the `pysd` library using the standard python [import](https://www.codementor.io/python/tutorial/python-path-virtualenv-import-for-beginners) [syntax](https://docs.python.org/2/tutorial/modules.html#modules). "
   ]
  },
  {
   "cell_type": "code",
   "execution_count": 1,
   "metadata": {
    "collapsed": false
   },
   "outputs": [
    {
     "name": "stdout",
     "output_type": "stream",
     "text": [
      "Populating the interactive namespace from numpy and matplotlib\n"
     ]
    },
    {
     "name": "stderr",
     "output_type": "stream",
     "text": [
      "/Users/houghton/anaconda/lib/python2.7/site-packages/pandas/computation/__init__.py:19: UserWarning: The installed version of numexpr 2.4.4 is not supported in pandas and will be not be used\n",
      "\n",
      "  UserWarning)\n"
     ]
    }
   ],
   "source": [
    "%pylab inline\n",
    "import pysd"
   ]
  },
  {
   "cell_type": "markdown",
   "metadata": {
    "slideshow": {
     "slide_type": "slide"
    }
   },
   "source": [
    "### Load model\n",
    "Now, use PySD's `load_vensim` [function](http://pysd.readthedocs.io/en/master/functions.html#pysd.read_vensim) to read the SIR model found at relative location: '`../../models/Epidemic/SIR.mdl`', and name the resulting object '`model`'."
   ]
  },
  {
   "cell_type": "code",
   "execution_count": 2,
   "metadata": {
    "collapsed": true
   },
   "outputs": [],
   "source": [
    "model = pysd.read_vensim('../../models/Epidemic/SIR.mdl')"
   ]
  },
  {
   "cell_type": "markdown",
   "metadata": {
    "slideshow": {
     "slide_type": "slide"
    }
   },
   "source": [
    "Just to practice, [run the model](http://pysd.readthedocs.io/en/master/functions.html#pysd.PySD.run), using the `.run()` function's `params` argument to set the value of `Infectivity` to `0.02`. \n",
    "\n",
    "Save the result in a variable named `res`. "
   ]
  },
  {
   "cell_type": "code",
   "execution_count": 3,
   "metadata": {
    "collapsed": true
   },
   "outputs": [],
   "source": [
    "res = model.run(params={'Infectivity': 0.02})"
   ]
  },
  {
   "cell_type": "markdown",
   "metadata": {
    "slideshow": {
     "slide_type": "skip"
    }
   },
   "source": [
    "The cell below contains code to plot the result of your simulation. Execute it and ensure that everything is working properly."
   ]
  },
  {
   "cell_type": "code",
   "execution_count": 4,
   "metadata": {
    "collapsed": false
   },
   "outputs": [
    {
     "data": {
      "image/png": "[encoded data removed]",
      "text/plain": [
       "<matplotlib.figure.Figure at 0x10ee89a10>"
      ]
     },
     "metadata": {},
     "output_type": "display_data"
    }
   ],
   "source": [
    "res['Infected'].plot()\n",
    "plt.xlabel('Days')\n",
    "plt.ylabel('Number of Individuals Infected');"
   ]
  },
  {
   "cell_type": "markdown",
   "metadata": {
    "slideshow": {
     "slide_type": "slide"
    }
   },
   "source": [
    "### Identify the peak for this base case run\n",
    "In the cell below, write an expression to calculate (for your base case) the [maximum](find ref to pandas max) number of individuals who are infected at any one time. You'll need to use Pandas syntax to select the column named 'Infected' and then use the Pandas functions referenced above."
   ]
  },
  {
   "cell_type": "code",
   "execution_count": 5,
   "metadata": {
    "collapsed": false
   },
   "outputs": [
    {
     "name": "stdout",
     "output_type": "stream",
     "text": [
      "Up to 481 individuals are infected at one time.\n"
     ]
    }
   ],
   "source": [
    "peak_value = res['Infected'].max()\n",
    "\n",
    "print 'Up to', int(peak_value), 'individuals are infected at one time.'"
   ]
  },
  {
   "cell_type": "markdown",
   "metadata": {
    "slideshow": {
     "slide_type": "slide"
    }
   },
   "source": [
    "### Define the range of infectivities we want to sweep over\n",
    "\n",
    "To identify the worst case scenario, we need to sweep over the plausible values of `infectivity`, from 0.005 to 0.1, in increments of .005. Our next step is to generate an array of these values. We can use the python package [numpy]() which handles matrix mathematics and array manipulation. (It is common practice to give the numpy module the short handle '`np`' as I have done below). \n",
    "\n",
    "You'll specifically want to use the `np.arange(...)` function, which extends the python standard `range` function to handle non-integer values. Consult the [numpy documentation]() to determine the arguments you'll want to pass in to this function to generate an array that looks like:\n",
    "```\n",
    "[0.005, 0.01, 0.015, ... 0.095, 0.1]\n",
    "```\n",
    "You may have to be creative to ensure that the last value in the array is actually `0.1`."
   ]
  },
  {
   "cell_type": "code",
   "execution_count": 6,
   "metadata": {
    "collapsed": false
   },
   "outputs": [
    {
     "name": "stdout",
     "output_type": "stream",
     "text": [
      "[ 0.005  0.01   0.015  0.02   0.025  0.03   0.035  0.04   0.045  0.05\n",
      "  0.055  0.06   0.065  0.07   0.075  0.08   0.085  0.09   0.095  0.1  ]\n"
     ]
    }
   ],
   "source": [
    "import numpy as np\n",
    "infectivity_values = np.arange(.005, .105, .005)\n",
    "print infectivity_values"
   ]
  },
  {
   "cell_type": "markdown",
   "metadata": {
    "slideshow": {
     "slide_type": "slide"
    }
   },
   "source": [
    "### Evaluate the peak of infections for each value of infectivity\n",
    "We now want to calculate the peak for the list of possible infectivities, and collect them in a pair of lists. To do this, write a for loop that iterates over each value in the array of infectivites. I've started this off for you below.\n",
    "\n",
    "Within the body of the for loop, run the model with that value of infectivity, saving the result to a variable named res. Then use python's [list append]() syntax to add the appropriate values to the end of the `peak_value_list`."
   ]
  },
  {
   "cell_type": "code",
   "execution_count": 7,
   "metadata": {
    "collapsed": false
   },
   "outputs": [
    {
     "data": {
      "text/plain": [
       "[24.920470547371014,\n",
       " 237.97922024327414,\n",
       " 384.66967921830297,\n",
       " 481.85895379444457,\n",
       " 550.67600418727307,\n",
       " 602.12150226696349,\n",
       " 642.16965211799061,\n",
       " 674.33328489439248,\n",
       " 700.80810743824316,\n",
       " 722.99952975221777,\n",
       " 741.95772871024531,\n",
       " 758.31312873507852,\n",
       " 772.60053450355554,\n",
       " 785.18997244874424,\n",
       " 796.45654025313729,\n",
       " 806.51646286134962,\n",
       " 815.56083132975607,\n",
       " 823.81875673147522,\n",
       " 831.29758845196977,\n",
       " 838.19886052750587]"
      ]
     },
     "execution_count": 7,
     "metadata": {},
     "output_type": "execute_result"
    }
   ],
   "source": [
    "peak_value_list = []\n",
    "\n",
    "for inf in infectivity_values:\n",
    "    res = model.run(params={'Infectivity': inf})\n",
    "    peak_value_list.append(res['Infected'].max())\n",
    "\n",
    "peak_value_list"
   ]
  },
  {
   "cell_type": "markdown",
   "metadata": {
    "slideshow": {
     "slide_type": "slide"
    }
   },
   "source": [
    "### Plot the result\n",
    "Now create a plot showing showing the values of infectivity on the x-axis, and the peak value of the infections on the y axis. Label each axis, and give the plot a title. From this plot we can eyeball the value of infectivity beyond which the peak level of infections rises over 500."
   ]
  },
  {
   "cell_type": "code",
   "execution_count": 8,
   "metadata": {
    "collapsed": false
   },
   "outputs": [
    {
     "data": {
      "image/png": "[encoded data removed]",
      "text/plain": [
       "<matplotlib.figure.Figure at 0x10efb2c50>"
      ]
     },
     "metadata": {},
     "output_type": "display_data"
    }
   ],
   "source": [
    "plt.plot(infectivity_values, peak_value_list)\n",
    "plt.grid()\n",
    "plt.xlabel('Infectivity')\n",
    "plt.ylabel('Peak Value of Infections')\n",
    "plt.title('Peak level of infection as a function of infectivity.');"
   ]
  },
  {
   "cell_type": "markdown",
   "metadata": {
    "slideshow": {
     "slide_type": "slide"
    }
   },
   "source": [
    "## Bonus Activities\n",
    "1. Identify the first day that the base might not be able to evacuate, for any value of infectivity.\n",
    "2. Identify the maximum total number of days that the base might be unable to evacuate, for the range of values of infectivity listed above.\n",
    "3. Come up with a better story for this example than 'penguin foot'. =)\n",
    "\n",
    "    "
   ]
  }
 ],
 "metadata": {
  "celltoolbar": "Slideshow",
  "kernelspec": {
   "display_name": "Python 2",
   "language": "python",
   "name": "python2"
  },
  "language_info": {
   "codemirror_mode": {
    "name": "ipython",
    "version": 2
   },
   "file_extension": ".py",
   "mimetype": "text/x-python",
   "name": "python",
   "nbconvert_exporter": "python",
   "pygments_lexer": "ipython2",
   "version": "2.7.12"
  }
 },
 "nbformat": 4,
 "nbformat_minor": 0
}
