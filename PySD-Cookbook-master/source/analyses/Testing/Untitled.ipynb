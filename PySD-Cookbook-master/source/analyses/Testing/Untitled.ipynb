{
 "cells": [
  {
   "cell_type": "code",
   "execution_count": 1,
   "metadata": {
    "collapsed": true
   },
   "outputs": [],
   "source": [
    "import pysd"
   ]
  },
  {
   "cell_type": "code",
   "execution_count": 2,
   "metadata": {
    "collapsed": true
   },
   "outputs": [],
   "source": [
    "model = pysd.read_vensim('../../models/Epidemic/SIR.mdl')"
   ]
  },
  {
   "cell_type": "code",
   "execution_count": 5,
   "metadata": {
    "collapsed": false
   },
   "outputs": [
    {
     "name": "stdout",
     "output_type": "stream",
     "text": [
      "|    | name                | modelName           | unit                | comment                                    |\n",
      "|----+---------------------+---------------------+---------------------+--------------------------------------------|\n",
      "|  0 | Contact Rate        | contact_rate        | Contacts/Person/Day | nan                                        |\n",
      "|  1 | FINAL TIME          | final_time          | Day                 | The final time for the simulation.         |\n",
      "|  2 | Infected            | infected            | Persons             | nan                                        |\n",
      "|  3 | Infection           | infection           | Persons/Day         | nan                                        |\n",
      "|  4 | Infectivity         | infectivity         | Persons/Contact     | nan                                        |\n",
      "|  5 | Initial Infected    | initial_infected    |                     | nan                                        |\n",
      "|  6 | Initial Susceptible | initial_susceptible |                     | nan                                        |\n",
      "|  7 | INITIAL TIME        | initial_time        | Day                 | The initial time for the simulation.       |\n",
      "|  8 | Period of Infection | period_of_infection | Days                | nan                                        |\n",
      "|  9 | Recovered           | recovered           | Persons             | nan                                        |\n",
      "| 10 | Recovery            | recovery            | Persons/Day         | nan                                        |\n",
      "| 11 | SAVEPER             | saveper             | Day [0,?]           | The frequency with which output is stored. |\n",
      "| 12 | Susceptible         | susceptible         | Persons             | nan                                        |\n",
      "| 13 | TIME STEP           | time_step           | Day [0,?]           | The time step for the simulation.          |\n",
      "| 14 | Total Population    | total_population    | Persons             | nan                                        |\n"
     ]
    }
   ],
   "source": [
    "print model.doc()"
   ]
  },
  {
   "cell_type": "code",
   "execution_count": null,
   "metadata": {
    "collapsed": true
   },
   "outputs": [],
   "source": []
  }
 ],
 "metadata": {
  "kernelspec": {
   "display_name": "Python 2",
   "language": "python",
   "name": "python2"
  },
  "language_info": {
   "codemirror_mode": {
    "name": "ipython",
    "version": 2
   },
   "file_extension": ".py",
   "mimetype": "text/x-python",
   "name": "python",
   "nbconvert_exporter": "python",
   "pygments_lexer": "ipython2",
   "version": "2.7.12"
  }
 },
 "nbformat": 4,
 "nbformat_minor": 0
}
