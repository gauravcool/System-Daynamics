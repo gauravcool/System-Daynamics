{
 "cells": [
  {
   "cell_type": "markdown",
   "metadata": {
    "slideshow": {
     "slide_type": "slide"
    }
   },
   "source": [
    "# Step-at-a-time optimization"
   ]
  },
  {
   "cell_type": "markdown",
   "metadata": {
    "slideshow": {
     "slide_type": "skip"
    }
   },
   "source": [
    "One of the consequences of forcing our models to obey the markov property is that the dynamic behavior of the model can be represented entirely in the transition from one state of the system to the next. This means that if we have full measurement of the state of the system, we can separate the model's timeseries behavior into a series of independent timesteps. Now we can fit the model parameters to each timestep independently, without worrying about errors compounding thoughout the simulation.\n",
    "\n",
    "We'll demonstrate this fitting of a model to data using PySD to manage our model, pandas to manage our data, and scipy to provide the optimization.\n"
   ]
  },
  {
   "cell_type": "markdown",
   "metadata": {
    "slideshow": {
     "slide_type": "slide"
    }
   },
   "source": [
    "## About this technique\n",
    "We can use this technique when we have full state information measurements in the dataset. It is particularly helpful for addressing oscillatory behavior."
   ]
  },
  {
   "cell_type": "code",
   "execution_count": 2,
   "metadata": {
    "collapsed": false
   },
   "outputs": [
    {
     "name": "stdout",
     "output_type": "stream",
     "text": [
      "Populating the interactive namespace from numpy and matplotlib\n"
     ]
    },
    {
     "name": "stderr",
     "output_type": "stream",
     "text": [
      "/Users/houghton/anaconda/lib/python2.7/site-packages/pandas/computation/__init__.py:19: UserWarning: The installed version of numexpr 2.4.4 is not supported in pandas and will be not be used\n",
      "\n",
      "  UserWarning)\n"
     ]
    }
   ],
   "source": [
    "%pylab inline\n",
    "import pandas as pd\n",
    "import pysd\n",
    "import scipy.optimize"
   ]
  },
  {
   "cell_type": "markdown",
   "metadata": {
    "slideshow": {
     "slide_type": "skip"
    }
   },
   "source": [
    "## Ingredients"
   ]
  },
  {
   "cell_type": "markdown",
   "metadata": {
    "slideshow": {
     "slide_type": "slide"
    }
   },
   "source": [
    "### Model\n",
    "In this demonstration we'll fit the [Lotka–Volterra Model](http://en.wikipedia.org/wiki/Lotka%E2%80%93Volterra_equation) model: \n",
    "<img src=\"../../models/Predator_Prey/Predator_Prey.png\" alt=\"Stock and Flow diagram of Lotka-Voltera model\" style=\"width: 300px;\"/>"
   ]
  },
  {
   "cell_type": "raw",
   "metadata": {
    "slideshow": {
     "slide_type": "skip"
    }
   },
   "source": [
    ".. image:: ../../../source/models/Predator_Prey/Predator_Prey.png\n",
    "   :width: 300 px"
   ]
  },
  {
   "cell_type": "code",
   "execution_count": 3,
   "metadata": {
    "collapsed": false
   },
   "outputs": [],
   "source": [
    "model = pysd.read_vensim('../../models/Predator_Prey/Predator_Prey.mdl')"
   ]
  },
  {
   "cell_type": "markdown",
   "metadata": {
    "slideshow": {
     "slide_type": "slide"
    }
   },
   "source": [
    "We will apply this model to a predator/prey system consisting of Didinium and Paramecium, that was described in:\n",
    "\n",
    "    Veilleux (1976) \"The analysis of a predatory interaction between Didinium and Paramecium\", Masters thesis, University of Alberta.\n",
    "    \n",
    "There are four parameters in this model that it will be our task to set, with the goal of minimizing the sum of squared errors between the model's step-at-a-time prediction and the measured data."
   ]
  },
  {
   "cell_type": "markdown",
   "metadata": {
    "slideshow": {
     "slide_type": "slide"
    }
   },
   "source": [
    "### Data\n",
    "The data we'll use was compiled from this work by [Christian Jost](http://robjhyndman.com/tsdldata/data/veilleux.dat)."
   ]
  },
  {
   "cell_type": "code",
   "execution_count": 4,
   "metadata": {
    "collapsed": false
   },
   "outputs": [
    {
     "data": {
      "text/html": [
       "<div>\n",
       "<table border=\"1\" class=\"dataframe\">\n",
       "  <thead>\n",
       "    <tr style=\"text-align: right;\">\n",
       "      <th></th>\n",
       "      <th>time(d)</th>\n",
       "      <th>prey(#ind/ml)</th>\n",
       "      <th>predator(#ind/ml)</th>\n",
       "    </tr>\n",
       "  </thead>\n",
       "  <tbody>\n",
       "    <tr>\n",
       "      <th>0</th>\n",
       "      <td>0.0</td>\n",
       "      <td>15.65</td>\n",
       "      <td>5.76</td>\n",
       "    </tr>\n",
       "    <tr>\n",
       "      <th>1</th>\n",
       "      <td>0.5</td>\n",
       "      <td>53.57</td>\n",
       "      <td>9.05</td>\n",
       "    </tr>\n",
       "  </tbody>\n",
       "</table>\n",
       "</div>"
      ],
      "text/plain": [
       "   time(d)  prey(#ind/ml)  predator(#ind/ml)\n",
       "0      0.0          15.65               5.76\n",
       "1      0.5          53.57               9.05"
      ]
     },
     "execution_count": 4,
     "metadata": {},
     "output_type": "execute_result"
    },
    {
     "data": {
      "image/png": "[encoded data removed]",
      "text/plain": [
       "<matplotlib.figure.Figure at 0x10ee94fd0>"
      ]
     },
     "metadata": {},
     "output_type": "display_data"
    }
   ],
   "source": [
    "data = pd.read_csv('../../data/Predator_Prey/Veilleux_CC_0.5_Pretator_Prey.txt', sep='\\s+', header=4)\n",
    "data[['prey(#ind/ml)','predator(#ind/ml)']].plot();\n",
    "data.head(2)"
   ]
  },
  {
   "cell_type": "markdown",
   "metadata": {
    "slideshow": {
     "slide_type": "skip"
    }
   },
   "source": [
    "## The Recipe"
   ]
  },
  {
   "cell_type": "markdown",
   "metadata": {
    "slideshow": {
     "slide_type": "slide"
    }
   },
   "source": [
    "### Step 1: Shape the dataset such that each row contains the start and end of a 'step'\n",
    "As we are analyzing the model a step at a time, it makes sense to restructure our dataframe so that each row contains both the starting and final state of each step. We can do this by merging the dataset with itself, offset by one row. We'll add suffixes to the columns to differentiate between the start and end of each step.\n",
    "\n",
    "While this method increases the burden of data that we have to carry, it allows us to use pandas's `apply` functionality to increase computational speed over a `for` loop."
   ]
  },
  {
   "cell_type": "code",
   "execution_count": 4,
   "metadata": {
    "collapsed": false
   },
   "outputs": [
    {
     "data": {
      "text/html": [
       "<div>\n",
       "<table border=\"1\" class=\"dataframe\">\n",
       "  <thead>\n",
       "    <tr style=\"text-align: right;\">\n",
       "      <th></th>\n",
       "      <th>time(d)_s</th>\n",
       "      <th>prey(#ind/ml)_s</th>\n",
       "      <th>predator(#ind/ml)_s</th>\n",
       "      <th>time(d)_f</th>\n",
       "      <th>prey(#ind/ml)_f</th>\n",
       "      <th>predator(#ind/ml)_f</th>\n",
       "    </tr>\n",
       "  </thead>\n",
       "  <tbody>\n",
       "    <tr>\n",
       "      <th>0</th>\n",
       "      <td>0.0</td>\n",
       "      <td>15.65</td>\n",
       "      <td>5.76</td>\n",
       "      <td>0.5</td>\n",
       "      <td>53.57</td>\n",
       "      <td>9.05</td>\n",
       "    </tr>\n",
       "    <tr>\n",
       "      <th>1</th>\n",
       "      <td>0.5</td>\n",
       "      <td>53.57</td>\n",
       "      <td>9.05</td>\n",
       "      <td>1.0</td>\n",
       "      <td>73.34</td>\n",
       "      <td>17.26</td>\n",
       "    </tr>\n",
       "    <tr>\n",
       "      <th>2</th>\n",
       "      <td>1.0</td>\n",
       "      <td>73.34</td>\n",
       "      <td>17.26</td>\n",
       "      <td>1.5</td>\n",
       "      <td>93.93</td>\n",
       "      <td>41.97</td>\n",
       "    </tr>\n",
       "    <tr>\n",
       "      <th>3</th>\n",
       "      <td>1.5</td>\n",
       "      <td>93.93</td>\n",
       "      <td>41.97</td>\n",
       "      <td>2.0</td>\n",
       "      <td>115.40</td>\n",
       "      <td>55.97</td>\n",
       "    </tr>\n",
       "    <tr>\n",
       "      <th>4</th>\n",
       "      <td>2.0</td>\n",
       "      <td>115.40</td>\n",
       "      <td>55.97</td>\n",
       "      <td>2.5</td>\n",
       "      <td>76.57</td>\n",
       "      <td>74.91</td>\n",
       "    </tr>\n",
       "  </tbody>\n",
       "</table>\n",
       "</div>"
      ],
      "text/plain": [
       "   time(d)_s  prey(#ind/ml)_s  predator(#ind/ml)_s  time(d)_f  \\\n",
       "0        0.0            15.65                 5.76        0.5   \n",
       "1        0.5            53.57                 9.05        1.0   \n",
       "2        1.0            73.34                17.26        1.5   \n",
       "3        1.5            93.93                41.97        2.0   \n",
       "4        2.0           115.40                55.97        2.5   \n",
       "\n",
       "   prey(#ind/ml)_f  predator(#ind/ml)_f  \n",
       "0            53.57                 9.05  \n",
       "1            73.34                17.26  \n",
       "2            93.93                41.97  \n",
       "3           115.40                55.97  \n",
       "4            76.57                74.91  "
      ]
     },
     "execution_count": 4,
     "metadata": {},
     "output_type": "execute_result"
    }
   ],
   "source": [
    "data_steps = pd.merge(data.iloc[:-1], data.iloc[1:].reset_index(drop=<<...>>), \n",
    "                      left_index=True, right_index=True, <<...>>=('_s','_f'))\n",
    "data_steps.head()"
   ]
  },
  {
   "cell_type": "markdown",
   "metadata": {
    "slideshow": {
     "slide_type": "slide"
    }
   },
   "source": [
    "### Step 2: Define a single-step error function\n",
    "\n",
    "We define a function that takes a single step and calculates the sum squared error between the model's prediction of the final datapoint and the actual measured value. The most complicated parts of this function are making sure that the data columns line up properly with the model components.\n",
    "\n",
    "Note that in this function we don't set the parameters of the model - we can do that just once in the next function."
   ]
  },
  {
   "cell_type": "code",
   "execution_count": 5,
   "metadata": {
    "collapsed": false
   },
   "outputs": [],
   "source": [
    "def one_step_error(row):\n",
    "    result = model.run(return_timestamps=[row['time(d)_f']],\n",
    "                       initial_condition=(row['time(d)_s'], \n",
    "                                          {'predator_population':row['predator(#ind/ml)_s'],\n",
    "                                           'prey_population':row['prey(#ind/ml)_s']}))\n",
    "    <<...>> = ((result.loc[row['time(d)_f']]['predator_population'] - row['predator(#ind/ml)_f'])**2 + \n",
    "           (result.loc[row['time(d)_f']]['prey_population'] - row['prey(#ind/ml)_f'])**2 )\n",
    "    return sse  "
   ]
  },
  {
   "cell_type": "markdown",
   "metadata": {
    "slideshow": {
     "slide_type": "slide"
    }
   },
   "source": [
    "### Step 3: Define an error function for the full dataset\n",
    "Now we define a function that sets the parameters of the model based upon the optimizer's suggestion, and computes the sum squared error for all steps."
   ]
  },
  {
   "cell_type": "code",
   "execution_count": 6,
   "metadata": {
    "collapsed": false
   },
   "outputs": [
    {
     "data": {
      "text/plain": [
       "545152.61053738836"
      ]
     },
     "execution_count": 6,
     "metadata": {},
     "output_type": "execute_result"
    }
   ],
   "source": [
    "def error(parameter_list):\n",
    "    parameter_names = ['predation_rate', 'prey_fertility', 'predator_mortality', 'predator_food_driven_fertility']\n",
    "    model.set_components(params=dict(zip(parameter_names, parameter_list)))\n",
    "    \n",
    "    errors = data_steps.apply(one_step_error, axis=1)\n",
    "    return errors.<<...>>\n",
    "\n",
    "error([.005, 1, 1, .002])"
   ]
  },
  {
   "cell_type": "markdown",
   "metadata": {
    "slideshow": {
     "slide_type": "slide"
    }
   },
   "source": [
    "Now we're ready to use scipy's built-in optimizer."
   ]
  },
  {
   "cell_type": "code",
   "execution_count": 7,
   "metadata": {
    "collapsed": false
   },
   "outputs": [],
   "source": [
    "res = scipy.optimize.minimize(<<...>>, x0=[.005, 1, 1, .002], method='L-BFGS-B', \n",
    "                              bounds=[(0,10), (0,None), (0,10), (0,None)])"
   ]
  },
  {
   "cell_type": "markdown",
   "metadata": {
    "slideshow": {
     "slide_type": "slide"
    }
   },
   "source": [
    "### Result\n",
    "We can plot the behavior of the system with our fit parameters over time:"
   ]
  },
  {
   "cell_type": "code",
   "execution_count": 8,
   "metadata": {
    "collapsed": false
   },
   "outputs": [
    {
     "data": {
      "text/plain": [
       "<matplotlib.axes._subplots.AxesSubplot at 0x1075e7c10>"
      ]
     },
     "execution_count": 8,
     "metadata": {},
     "output_type": "execute_result"
    },
    {
     "data": {
      "image/png": "[encoded data removed]",
      "text/plain": [
       "<matplotlib.figure.Figure at 0x107514c90>"
      ]
     },
     "metadata": {},
     "output_type": "display_data"
    }
   ],
   "source": [
    "predation_rate, prey_fertility, predator_mortality, predator_food_driven_fertility = res.x\n",
    "values = model.run(params={'predation_rate':predation_rate,\n",
    "                           'prey_fertility':prey_fertility, \n",
    "                           'predator_mortality':predator_mortality, \n",
    "                           'predator_food_driven_fertility':predator_food_driven_fertility})\n",
    "\n",
    "values.plot()"
   ]
  }
 ],
 "metadata": {
  "celltoolbar": "Slideshow",
  "kernelspec": {
   "display_name": "Python 2",
   "language": "python",
   "name": "python2"
  },
  "language_info": {
   "codemirror_mode": {
    "name": "ipython",
    "version": 2
   },
   "file_extension": ".py",
   "mimetype": "text/x-python",
   "name": "python",
   "nbconvert_exporter": "python",
   "pygments_lexer": "ipython2",
   "version": "2.7.12"
  }
 },
 "nbformat": 4,
 "nbformat_minor": 0
}
