{
 "cells": [
  {
   "cell_type": "markdown",
   "metadata": {},
   "source": [
    "# Parallel Model Fitting\n",
    "\n",
    "In this notebook, we'll fit a simple ageing model to all of the counties in the United States. As before, we'll use `scipy.optimize` to perform the fitting, but we'll use python's `multiprocessing` library to perform these optimizations in parallel.\n",
    "\n",
    "## When to use this technique\n",
    "This technique is appropriate when we are modeling a large number of entirely independent but structurally identical systems. In this example, we're conceptualizing the population of counties to be influenced by aging and exogenous migration patterns. If we were to attempt to link the models together, for instance by specifying that the outmigration from one county needed to be accounted for as the inmigration to another county, we would need to perform a single large-scale optimization, or some form of hybrid."
   ]
  },
  {
   "cell_type": "code",
   "execution_count": 1,
   "metadata": {
    "collapsed": false
   },
   "outputs": [
    {
     "name": "stdout",
     "output_type": "stream",
     "text": [
      "Populating the interactive namespace from numpy and matplotlib\n"
     ]
    }
   ],
   "source": [
    "%pylab inline\n",
    "import pandas as pd\n",
    "import pysd\n",
    "import scipy.optimize\n",
    "import multiprocessing\n",
    "import numpy as np\n",
    "import seaborn"
   ]
  },
  {
   "cell_type": "markdown",
   "metadata": {},
   "source": [
    "## Ingredients\n",
    "\n",
    "#### Data\n",
    "The first ingredient theat we'll use is census data from the 2000 and 2010 census:"
   ]
  },
  {
   "cell_type": "code",
   "execution_count": 37,
   "metadata": {
    "collapsed": false
   },
   "outputs": [
    {
     "data": {
      "text/html": [
       "<div>\n",
       "<table border=\"1\" class=\"dataframe\">\n",
       "  <thead>\n",
       "    <tr>\n",
       "      <th></th>\n",
       "      <th>Unnamed: 0_level_0</th>\n",
       "      <th>Unnamed: 1_level_0</th>\n",
       "      <th colspan=\"9\" halign=\"left\">2000</th>\n",
       "      <th colspan=\"9\" halign=\"left\">2010</th>\n",
       "    </tr>\n",
       "    <tr>\n",
       "      <th></th>\n",
       "      <th>Unnamed: 0_level_1</th>\n",
       "      <th>Unnamed: 1_level_1</th>\n",
       "      <th>dec_1</th>\n",
       "      <th>dec_2</th>\n",
       "      <th>dec_3</th>\n",
       "      <th>dec_4</th>\n",
       "      <th>dec_5</th>\n",
       "      <th>dec_6</th>\n",
       "      <th>dec_7</th>\n",
       "      <th>dec_8</th>\n",
       "      <th>dec_9</th>\n",
       "      <th>dec_1</th>\n",
       "      <th>dec_2</th>\n",
       "      <th>dec_3</th>\n",
       "      <th>dec_4</th>\n",
       "      <th>dec_5</th>\n",
       "      <th>dec_6</th>\n",
       "      <th>dec_7</th>\n",
       "      <th>dec_8</th>\n",
       "      <th>dec_9</th>\n",
       "    </tr>\n",
       "  </thead>\n",
       "  <tbody>\n",
       "    <tr>\n",
       "      <th>0</th>\n",
       "      <td>1</td>\n",
       "      <td>1</td>\n",
       "      <td>3375</td>\n",
       "      <td>3630</td>\n",
       "      <td>2461</td>\n",
       "      <td>3407</td>\n",
       "      <td>3283</td>\n",
       "      <td>2319</td>\n",
       "      <td>1637</td>\n",
       "      <td>825</td>\n",
       "      <td>284</td>\n",
       "      <td>3867</td>\n",
       "      <td>4384</td>\n",
       "      <td>3082</td>\n",
       "      <td>3598</td>\n",
       "      <td>4148</td>\n",
       "      <td>3390</td>\n",
       "      <td>2293</td>\n",
       "      <td>1353</td>\n",
       "      <td>454</td>\n",
       "    </tr>\n",
       "    <tr>\n",
       "      <th>1</th>\n",
       "      <td>1</td>\n",
       "      <td>3</td>\n",
       "      <td>9323</td>\n",
       "      <td>10094</td>\n",
       "      <td>7600</td>\n",
       "      <td>9725</td>\n",
       "      <td>10379</td>\n",
       "      <td>8519</td>\n",
       "      <td>6675</td>\n",
       "      <td>4711</td>\n",
       "      <td>1822</td>\n",
       "      <td>11446</td>\n",
       "      <td>12006</td>\n",
       "      <td>9976</td>\n",
       "      <td>11042</td>\n",
       "      <td>12517</td>\n",
       "      <td>12368</td>\n",
       "      <td>10623</td>\n",
       "      <td>6307</td>\n",
       "      <td>2911</td>\n",
       "    </tr>\n",
       "    <tr>\n",
       "      <th>2</th>\n",
       "      <td>1</td>\n",
       "      <td>5</td>\n",
       "      <td>2002</td>\n",
       "      <td>2198</td>\n",
       "      <td>2412</td>\n",
       "      <td>2465</td>\n",
       "      <td>2178</td>\n",
       "      <td>1699</td>\n",
       "      <td>1026</td>\n",
       "      <td>689</td>\n",
       "      <td>301</td>\n",
       "      <td>1673</td>\n",
       "      <td>1739</td>\n",
       "      <td>2260</td>\n",
       "      <td>2208</td>\n",
       "      <td>2233</td>\n",
       "      <td>1910</td>\n",
       "      <td>1490</td>\n",
       "      <td>739</td>\n",
       "      <td>324</td>\n",
       "    </tr>\n",
       "    <tr>\n",
       "      <th>3</th>\n",
       "      <td>1</td>\n",
       "      <td>7</td>\n",
       "      <td>1546</td>\n",
       "      <td>1460</td>\n",
       "      <td>1680</td>\n",
       "      <td>1762</td>\n",
       "      <td>1624</td>\n",
       "      <td>1237</td>\n",
       "      <td>774</td>\n",
       "      <td>475</td>\n",
       "      <td>187</td>\n",
       "      <td>1471</td>\n",
       "      <td>1577</td>\n",
       "      <td>1798</td>\n",
       "      <td>2016</td>\n",
       "      <td>1928</td>\n",
       "      <td>1581</td>\n",
       "      <td>1140</td>\n",
       "      <td>579</td>\n",
       "      <td>211</td>\n",
       "    </tr>\n",
       "    <tr>\n",
       "      <th>4</th>\n",
       "      <td>1</td>\n",
       "      <td>9</td>\n",
       "      <td>3741</td>\n",
       "      <td>3615</td>\n",
       "      <td>3393</td>\n",
       "      <td>3901</td>\n",
       "      <td>3773</td>\n",
       "      <td>3007</td>\n",
       "      <td>2227</td>\n",
       "      <td>1269</td>\n",
       "      <td>550</td>\n",
       "      <td>3741</td>\n",
       "      <td>4252</td>\n",
       "      <td>3312</td>\n",
       "      <td>3719</td>\n",
       "      <td>4129</td>\n",
       "      <td>3782</td>\n",
       "      <td>3052</td>\n",
       "      <td>1723</td>\n",
       "      <td>652</td>\n",
       "    </tr>\n",
       "  </tbody>\n",
       "</table>\n",
       "</div>"
      ],
      "text/plain": [
       "  Unnamed: 0_level_0 Unnamed: 1_level_0  2000                                  \\\n",
       "  Unnamed: 0_level_1 Unnamed: 1_level_1 dec_1  dec_2 dec_3 dec_4  dec_5 dec_6   \n",
       "0                  1                  1  3375   3630  2461  3407   3283  2319   \n",
       "1                  1                  3  9323  10094  7600  9725  10379  8519   \n",
       "2                  1                  5  2002   2198  2412  2465   2178  1699   \n",
       "3                  1                  7  1546   1460  1680  1762   1624  1237   \n",
       "4                  1                  9  3741   3615  3393  3901   3773  3007   \n",
       "\n",
       "                      2010                                                 \\\n",
       "  dec_7 dec_8 dec_9  dec_1  dec_2 dec_3  dec_4  dec_5  dec_6  dec_7 dec_8   \n",
       "0  1637   825   284   3867   4384  3082   3598   4148   3390   2293  1353   \n",
       "1  6675  4711  1822  11446  12006  9976  11042  12517  12368  10623  6307   \n",
       "2  1026   689   301   1673   1739  2260   2208   2233   1910   1490   739   \n",
       "3   774   475   187   1471   1577  1798   2016   1928   1581   1140   579   \n",
       "4  2227  1269   550   3741   4252  3312   3719   4129   3782   3052  1723   \n",
       "\n",
       "         \n",
       "  dec_9  \n",
       "0   454  \n",
       "1  2911  \n",
       "2   324  \n",
       "3   211  \n",
       "4   652  "
      ]
     },
     "execution_count": 37,
     "metadata": {},
     "output_type": "execute_result"
    }
   ],
   "source": [
    "data = pd.read_csv('../../data/Census/Males by decade and county.csv', header=[0,1], skiprows=[2])\n",
    "data.head()"
   ]
  },
  {
   "cell_type": "markdown",
   "metadata": {},
   "source": [
    "#### Model\n",
    "The model will be a simple ageing chain that groups individuals into 10 year cohorts."
   ]
  },
  {
   "cell_type": "code",
   "execution_count": 38,
   "metadata": {
    "collapsed": true
   },
   "outputs": [],
   "source": [
    "model = pysd.read_vensim('../../models/Aging_Chain/Aging_Chain.mdl')"
   ]
  },
  {
   "cell_type": "markdown",
   "metadata": {},
   "source": [
    "## The Recipe\n",
    "As in our other optimization problems, we'll construct an error function that calculates the sum of squared errors between our model prediction and the measured data. We also construct a helper function called `fit` which basically makes the call to the optimizer and formats the result in something that we can aggregate into a Pandas DataFrame."
   ]
  },
  {
   "cell_type": "code",
   "execution_count": 80,
   "metadata": {
    "collapsed": false
   },
   "outputs": [],
   "source": [
    "param_names = ['dec_%i_loss_rate'%i for i in range(1,10)]\n",
    "\n",
    "def error(param_vals, measurements):\n",
    "    predictions = model.run(params=dict(zip(param_names, param_vals)),\n",
    "                            initial_condition=(2000,measurements['2000']),\n",
    "                            return_timestamps=2010,\n",
    "                            rtol=1).loc[2010]\n",
    "\n",
    "    errors = predictions - measurements['2010']\n",
    "    return sum(errors.values[1:]**2) #ignore first decade: no birth info\n",
    "\n",
    "def fit(row):\n",
    "    res = scipy.optimize.minimize(error, args=row,\n",
    "                                  x0=[.05]*9,\n",
    "                                  method='L-BFGS-B');\n",
    "    return pd.Series(index=['dec_%i_loss_rate'%i for i in range(1,10)], data=res['x'])"
   ]
  },
  {
   "cell_type": "markdown",
   "metadata": {},
   "source": [
    "At this point, fitting the model is a simple matter of applying the fit function to the data:"
   ]
  },
  {
   "cell_type": "code",
   "execution_count": null,
   "metadata": {
    "collapsed": false
   },
   "outputs": [],
   "source": [
    "%%capture\n",
    "county_params = data.apply(fit, axis=1)"
   ]
  },
  {
   "cell_type": "markdown",
   "metadata": {},
   "source": [
    "On my 2014 era machine, this optimization takes about half an hour.\n",
    "\n",
    "We can plot the distributions of the fit parameters for each of the counties in a histogram, to get a sense of the result. (Here we're ignoring the first decade, which will not have reasonable parameters, as we have no information about births to the system.)"
   ]
  },
  {
   "cell_type": "code",
   "execution_count": 78,
   "metadata": {
    "collapsed": false,
    "scrolled": true
   },
   "outputs": [
    {
     "data": {
      "image/png": "[encoded data removed]",
      "text/plain": [
       "<matplotlib.figure.Figure at 0x11a290e90>"
      ]
     },
     "metadata": {},
     "output_type": "display_data"
    }
   ],
   "source": [
    "df2 = county_params.drop('dec_1_loss_rate',1)\n",
    "df2.plot(kind='hist', bins=np.arange(-.15,.4,.01), alpha=.4, histtype='stepfilled')\n",
    "plt.xlim(-.15,.4)\n",
    "plt.title('Fit yearly loss rates from each US county\\n by age bracket from 2000 to 2010', fontsize=16)\n",
    "plt.ylabel('Number of Counties', fontsize=16)\n",
    "plt.xlabel('Yearly Loss Rate in 1% Brackets', fontsize=16)\n",
    "plt.legend(frameon=False, fontsize=14)\n",
    "plt.savefig('Loss_Histogram.svg')"
   ]
  },
  {
   "cell_type": "markdown",
   "metadata": {},
   "source": [
    "#### Executing the optimization in parallel\n",
    "\n",
    "We can take advantage of the multicore nature of most modern machines by using python's `multiprocessing` module to distribute the various counties between each of the cores we have available for the calculation. The basic structure for this piece of code comes from [this gist](https://gist.github.com/yong27/7869662). We are essentially creating a helper function that will apply the fit function to a subset of the census DataFrame, and calling this function once on each of our worker nodes."
   ]
  },
  {
   "cell_type": "code",
   "execution_count": null,
   "metadata": {
    "collapsed": false,
    "scrolled": false
   },
   "outputs": [],
   "source": [
    "%%capture\n",
    "\n",
    "def _apply_df(args):\n",
    "    df, func, kwargs = args\n",
    "    return df.apply(func, **kwargs)\n",
    "\n",
    "def apply_by_multiprocessing(df, func, workers, **kwargs):\n",
    "    pool = multiprocessing.Pool(processes=workers)\n",
    "    result = pool.map(_apply_df, [(d, func, kwargs) for d in np.array_split(df, workers)])\n",
    "    pool.close()\n",
    "    return pd.concat(list(result))\n",
    "\n",
    "county_params = apply_by_multiprocessing(data[:10], fit, axis=1, workers=4)"
   ]
  }
 ],
 "metadata": {
  "kernelspec": {
   "display_name": "Python 2",
   "language": "python",
   "name": "python2"
  },
  "language_info": {
   "codemirror_mode": {
    "name": "ipython",
    "version": 2
   },
   "file_extension": ".py",
   "mimetype": "text/x-python",
   "name": "python",
   "nbconvert_exporter": "python",
   "pygments_lexer": "ipython2",
   "version": "2.7.12"
  }
 },
 "nbformat": 4,
 "nbformat_minor": 0
}
